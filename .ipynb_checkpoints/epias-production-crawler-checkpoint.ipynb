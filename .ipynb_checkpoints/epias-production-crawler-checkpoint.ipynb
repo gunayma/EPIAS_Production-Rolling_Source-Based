{
 "cells": [
  {
   "cell_type": "code",
   "execution_count": 1,
   "metadata": {},
   "outputs": [],
   "source": [
    "from transparency_epias.production import productionClient\n",
    "import pandas as pd\n",
    "from datetime import datetime, timedelta\n",
    "from dateutil.relativedelta import relativedelta\n",
    "import os\n",
    "import requests\n",
    "import json"
   ]
  },
  {
   "cell_type": "code",
   "execution_count": 2,
   "metadata": {},
   "outputs": [],
   "source": [
    "master_start_dt = datetime(2015,1,1)\n",
    "today = datetime.today()\n",
    "save_path = r\"C:\\Users\\mehmetg\\jupyter\\EPIAS_Production-Rolling_Source-Based\""
   ]
  },
  {
   "cell_type": "code",
   "execution_count": 3,
   "metadata": {},
   "outputs": [],
   "source": [
    "production_columns_map = {\n",
    "    \"fueloil\": \"FuelOil\",\n",
    "    \"gasOil\": \"GasOil\",\n",
    "    \"blackCoal\": \"BlackCoal\",\n",
    "    \"lignite\": \"Lignite\",\n",
    "    \"geothermal\": \"Geothermal\",\n",
    "    \"naturalGas\": \"NaturalGas\",\n",
    "    \"river\": \"Run-of-River\",\n",
    "    \"dammedHydro\": \"Dam\",\n",
    "    \"lng\": \"LNG\",\n",
    "    \"biomass\": \"Biomass\",\n",
    "    \"naphta\": \"Naphta\",\n",
    "    \"importCoal\": \"HardCoal\",\n",
    "    \"asphaltiteCoal\": \"Asphaltite\",\n",
    "    \"wind\": \"Wind\",\n",
    "    \"nucklear\": \"Nuclear\",\n",
    "    \"sun\": \"Solar\",\n",
    "    \"importExport\": \"ImportExport\",\n",
    "    \"total\": \"Total\"\n",
    "}"
   ]
  },
  {
   "cell_type": "code",
   "execution_count": 4,
   "metadata": {
    "scrolled": false
   },
   "outputs": [],
   "source": [
    "def get_production(start_date, end_date):\n",
    "    start_date_str = start_date.strftime(\"%Y-%m-%d\")\n",
    "    end_date_str = end_date.strftime(\"%Y-%m-%d\")\n",
    "    response_production = productionClient.production.real_time_gen(\n",
    "        startDate=start_date_str, endDate=end_date_str)\n",
    "    production = pd.DataFrame(response_production)\n",
    "    production = production.set_index(\"date\")\n",
    "    production.index =  pd.to_datetime(production.index.map(lambda dt: str(dt)[:19]))\n",
    "    production.columns = [production_columns_map[col] for col in production.columns]\n",
    "    production.index.name = \"DateTime\"\n",
    "    return production"
   ]
  },
  {
   "cell_type": "code",
   "execution_count": 5,
   "metadata": {},
   "outputs": [],
   "source": [
    "year_dts = []\n",
    "year_dts.append(master_start_dt)\n",
    "while year_dts[-1] < today:\n",
    "    year_dts.append(year_dts[-1] + relativedelta(years=1))\n",
    "    \n",
    "existing = os.listdir(save_path)\n",
    "existing = [f for f in existing if '.csv' in f]\n",
    "if len(existing) > 0:\n",
    "    existing.sort()\n",
    "    latest = int(existing[-1].split(\".\")[0])\n",
    "    year_dts = [dt for dt in year_dts if dt.year >= latest]"
   ]
  },
  {
   "cell_type": "code",
   "execution_count": 6,
   "metadata": {
    "scrolled": true
   },
   "outputs": [
    {
     "name": "stdout",
     "output_type": "stream",
     "text": [
      "Processing 2021\n",
      "Appending to 2021.csv\n"
     ]
    }
   ],
   "source": [
    "for y in range(len(year_dts)-1):\n",
    "    dt_start = year_dts[y]\n",
    "    dt_end = year_dts[y+1] - timedelta(hours=1)\n",
    "    print(\"Processing\", dt_start.year)\n",
    "    filename = \"{}.csv\".format(dt_start.year)\n",
    "    file_save_path = os.path.join(save_path, filename)\n",
    "    if os.path.exists(file_save_path):\n",
    "        dummy = pd.read_csv(file_save_path, index_col=0, parse_dates=True)\n",
    "        last_idx = dummy.index[-1]\n",
    "        if last_idx != dt_end:\n",
    "            print(\"Appending to\", filename)\n",
    "            new_dt_start = last_idx - timedelta(days=7) # start from last 7 days\n",
    "            production = get_production(new_dt_start, dt_end)\n",
    "            production = pd.concat([dummy, production])\n",
    "            production = production.groupby(production.index).last()\n",
    "            production.to_csv(file_save_path)\n",
    "    else:\n",
    "        production = get_production(dt_start, dt_end)\n",
    "        production.to_csv(file_save_path)"
   ]
  },
  {
   "cell_type": "code",
   "execution_count": null,
   "metadata": {},
   "outputs": [],
   "source": []
  }
 ],
 "metadata": {
  "kernelspec": {
   "display_name": "Python 3",
   "language": "python",
   "name": "python3"
  },
  "language_info": {
   "codemirror_mode": {
    "name": "ipython",
    "version": 3
   },
   "file_extension": ".py",
   "mimetype": "text/x-python",
   "name": "python",
   "nbconvert_exporter": "python",
   "pygments_lexer": "ipython3",
   "version": "3.8.5"
  }
 },
 "nbformat": 4,
 "nbformat_minor": 5
}
